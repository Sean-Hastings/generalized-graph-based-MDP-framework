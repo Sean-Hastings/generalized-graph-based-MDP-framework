{
 "cells": [
  {
   "cell_type": "code",
   "execution_count": 1,
   "metadata": {},
   "outputs": [],
   "source": [
    "from collections import defaultdict\n",
    "import numpy as np\n",
    "from copy import deepcopy\n",
    "from matplotlib import pyplot as plt\n",
    "from math import isclose\n",
    "import cProfile\n",
    "from multiprocessing import Pool"
   ]
  },
  {
   "cell_type": "code",
   "execution_count": 2,
   "metadata": {},
   "outputs": [],
   "source": [
    "class State():\n",
    "    def __init__(self, id_, actions):\n",
    "        self.id = id_\n",
    "        self.actions = actions\n",
    "        \n",
    "    def __repr__(self):\n",
    "        return self.__str__()\n",
    "        \n",
    "    def __str__(self):\n",
    "        return 'State(%d, %s)' % (self.id, self.actions)\n",
    "        \n",
    "\n",
    "class Action():\n",
    "    def __init__(self, destinations, probabilities):\n",
    "        assert len(destinations) == len(probabilities)\n",
    "        assert isclose(sum(probabilities), 1)\n",
    "        self.destinations = destinations\n",
    "        self.probabilities = probabilities\n",
    "\n",
    "    def __eq__(self, other):\n",
    "        return self.destinations == other.destinations and self.probabilities == other.probabilities\n",
    "\n",
    "    def __ne__(self, other):\n",
    "        return not self.__eq__(other)\n",
    "        \n",
    "    def __repr__(self):\n",
    "        return self.__str__()\n",
    "        \n",
    "    def __str__(self):\n",
    "        return 'Action(%s)' % str([(self.destinations[i], ('%.2f' % self.probabilities[i])) for i in range(len(self.destinations))])\n",
    "        \n",
    "    def execute(self):\n",
    "        next_state = np.random.choice(self.destinations, p=self.probabilities)\n",
    "        return next_state\n",
    "    \n",
    "\n",
    "''' Directed State Action Graph (MDP without rewards) '''\n",
    "class DSAG():\n",
    "    def __init__(self, states):\n",
    "        assert isinstance(states, list)\n",
    "        assert all([len(state.actions) == len(states[0].actions) for state in states])\n",
    "        self.states = states\n",
    "        \n",
    "    def convert_goal(self, goal):\n",
    "        if isinstance(goal, (list, tuple)):\n",
    "            goal = self.size*goal[0] + goal[1]\n",
    "        return goal\n",
    "        \n",
    "    def show(self, goal=0, debug=False):\n",
    "        goal = self.convert_goal(goal)\n",
    "        value, policy = value_iterate(self, goal, debug=debug)\n",
    "        \n",
    "        for i_state, state in enumerate(self.states):\n",
    "            print(i_state, state, value[i_state], policy[i_state])\n",
    "        \n",
    "\n",
    "class GridWorld(DSAG):\n",
    "    def __init__(self, states):\n",
    "        super().__init__(states)\n",
    "        self.size = np.sqrt(len(states))\n",
    "        assert int(self.size) == self.size\n",
    "        self.size = int(self.size)\n",
    "        \n",
    "    def show(self, goal=0, gamma=.99, debug=False):\n",
    "        goal = self.convert_goal(goal)\n",
    "        value, policy = value_iterate(self, goal, gamma=gamma, debug=debug)\n",
    "        \n",
    "        print('Values:')\n",
    "        plt.imshow(np.array(value).reshape(self.size, self.size))\n",
    "        plt.show()\n",
    "        \n",
    "        print('Policy:')\n",
    "        plt.imshow(np.array(policy).reshape(self.size, self.size))\n",
    "        plt.show()\n",
    "        \n",
    "        print('key: wall, up, down, left, right')\n",
    "        plt.imshow(np.array([-1,0,1,2,3]).reshape(1,5))\n",
    "        \n",
    "        if debug:\n",
    "            print(np.array(policy).reshape(self.size, self.size))\n",
    "            print(np.array(value).reshape(self.size, self.size))\n",
    "            \n",
    "    \n",
    "class Taxi(DSAG):\n",
    "    def __init__(self, states, indices):\n",
    "        super().__init__(states)\n",
    "        self.indices = indices\n",
    "        self.size = indices.shape[0]\n",
    "    \n",
    "    def convert_goal(self, goal=(0,0), debug=False):\n",
    "        return self.indices[goal[0], goal[1], goal[0], goal[1], 0]\n",
    "    \n",
    "    def show(self, passenger=(0,0), goal=(0,0), gamma=.99, debug=False):\n",
    "        goal = self.convert_goal(goal)\n",
    "        print(goal)\n",
    "        value, policy = value_iterate(self, goal, gamma=gamma, debug=debug)\n",
    "        \n",
    "        rows = np.array(sum([[i]*self.size for i in range(self.size)], []))\n",
    "        cols = np.concatenate([np.arange(self.size)]*self.size)\n",
    "        \n",
    "        print('Values:')\n",
    "        print('Getting Passenger:')\n",
    "        plt.imshow(np.array(value).reshape(self.size, self.size, self.size, self.size, 2)[:, :, passenger[0], passenger[1], 0])\n",
    "        plt.show()\n",
    "        print('Transporting Passenger:')\n",
    "        plt.imshow(np.array(value).reshape(self.size, self.size, self.size, self.size, 2)[rows, cols, rows, cols, 1].reshape(self.size, self.size))\n",
    "        plt.show()\n",
    "        \n",
    "        print('Policy:')\n",
    "        print('Getting Passenger:')\n",
    "        plt.imshow(np.array(policy).reshape(self.size, self.size, self.size, self.size, 2)[:, :, passenger[0], passenger[1], 0])\n",
    "        plt.show()\n",
    "        print('Transporting Passenger:')\n",
    "        plt.imshow(np.array(policy).reshape(self.size, self.size, self.size, self.size, 2)[rows, cols, rows, cols, 1].reshape(self.size, self.size))\n",
    "        plt.show()\n",
    "        \n",
    "        print('key: wall, up, down, left, right, pick, place')\n",
    "        plt.imshow(np.array([-1,0,1,2,3,4,5]).reshape(1,7))\n",
    "        \n",
    "        if debug:\n",
    "            print(np.array(value).reshape(self.size, self.size, self.size, self.size, 2)[:, :, passenger[0], passenger[1], 0])\n",
    "            print(np.array(value).reshape(self.size, self.size, self.size, self.size, 2)[rows, cols, rows, cols, 1].reshape(self.size, self.size))\n",
    "            print(np.array(policy).reshape(self.size, self.size, self.size, self.size, 2)[:, :, passenger[0], passenger[1], 0])\n",
    "            print(np.array(policy).reshape(self.size, self.size, self.size, self.size, 2)[rows, cols, rows, cols, 1].reshape(self.size, self.size))"
   ]
  },
  {
   "cell_type": "code",
   "execution_count": 3,
   "metadata": {},
   "outputs": [],
   "source": [
    "def get_adjacent_taxi(i_state, size, indices):\n",
    "    adj = [i_state]\n",
    "    \n",
    "    ar = i_state // (size**3 * 2)\n",
    "    ac = i_state // (size**2 * 2) % size\n",
    "    pr = i_state // (size**1 * 2) % size\n",
    "    pc = i_state // 2 % size\n",
    "    h  = i_state % 2\n",
    "    \n",
    "    \n",
    "    adj += [indices[max(ar-1, 0), ac, pr, pc, h]]\n",
    "    adj += [indices[min(ar+1, size-1), ac, pr, pc, h]]\n",
    "    adj += [indices[ar, max(ac-1, 0), pr, pc, h]]\n",
    "    adj += [indices[ar, min(ac+1, size-1), pr, pc, h]]\n",
    "    adj += [indices[ar, ac, max(pr-1, 0), pc, h]]\n",
    "    adj += [indices[ar, ac, min(pr+1, size-1), pc, h]]\n",
    "    adj += [indices[ar, ac, pr, max(pc-1, 0), h]]\n",
    "    adj += [indices[ar, ac, pr, min(pc+1, size-1), h]]\n",
    "    if h:\n",
    "        adj += [indices[max(ar-1, 0), ac, max(pr-1, 0), pc, h]]\n",
    "        adj += [indices[min(ar+1, size-1), ac, min(pr+1, size-1), pc, h]]\n",
    "        adj += [indices[ar, max(ac-1, 0), pr, max(pc-1, 0), h]]\n",
    "        adj += [indices[ar, min(ac+1, size-1), pr, min(pc+1, size-1), h]]\n",
    "    adj += [indices[ar, ac, pr, pc, 0]]\n",
    "    adj += [indices[ar, ac, pr, pc, 1]]\n",
    "    \n",
    "    return adj\n",
    "\n",
    "\n",
    "def get_adjacent_gw(i_state, size):\n",
    "    adj = [i_state]\n",
    "    \n",
    "    r = i_state // size\n",
    "    c = i_state % size\n",
    "    \n",
    "    adj += [max(r-1, 0)*size + c]\n",
    "    adj += [min(r+1, size-1)*size + c]\n",
    "    adj += [max(c-1, 0) + r*size]\n",
    "    adj += [min(c+1, size-1) + r*size]\n",
    "    \n",
    "    return adj\n",
    "\n",
    "\n",
    "def get_adjacent(i_state, graph):\n",
    "    if isinstance(graph, Taxi):\n",
    "        return get_adjacent_taxi(i_state, graph.size, graph.indices)\n",
    "    if isinstance(graph, GridWorld):\n",
    "        return get_adjacent_gw(i_state, graph.size)\n",
    "    else:\n",
    "        raise Exception('Gotta use one of the above, bud.')\n",
    "\n",
    "\n",
    "''' https://artint.info/html/ArtInt_227.html '''\n",
    "def value_iterate(graph, goal_id, gamma=.99, epsilon=.001, debug=False):\n",
    "    sz = graph.size\n",
    "    if debug:\n",
    "        pr = cProfile.Profile()\n",
    "        pr.enable()\n",
    "    value = [1] * len(graph.states)\n",
    "    next_value = [0] * len(graph.states)\n",
    "    policy = [-1] * len(graph.states)\n",
    "    to_update = [abs(next_value[i] - value[i]) > epsilon for i in range(len(value))]\n",
    "    iter = 0\n",
    "    while any(to_update):\n",
    "        value = deepcopy(next_value)\n",
    "        for i_state, state in enumerate(graph.states):\n",
    "            adj = get_adjacent(i_state, graph)\n",
    "            if (any([to_update[ad] for ad in adj])) and (not (all([state.actions[0] == act for act in state.actions]))):\n",
    "                action_value = [0] * len(state.actions)\n",
    "                action_max = 0\n",
    "                for i_action, action in enumerate(state.actions):\n",
    "                    if all([dest == i_state for dest in action.destinations]):\n",
    "                        continue\n",
    "                    action_value[i_action] = sum([action.probabilities[i_sp]*((action.destinations[i_sp] == goal_id)+(1-(action.destinations[i_sp] == goal_id))*gamma*value[action.destinations[i_sp]]) for i_sp in range(len(action.destinations))])\n",
    "                    if action_value[i_action] > action_max:\n",
    "                        action_max = action_value[i_action]\n",
    "                        policy[i_state] = i_action\n",
    "                next_value[i_state] = action_max\n",
    "        to_update = [abs(next_value[i] - value[i]) > epsilon for i in range(len(value))]\n",
    "        \n",
    "        if debug:\n",
    "            iter += 1        \n",
    "            print('=========')\n",
    "            print(iter)\n",
    "            print(sum(to_update))\n",
    "    \n",
    "    if debug:\n",
    "        pr.disable()\n",
    "        pr.print_stats()\n",
    "    return next_value, policy"
   ]
  },
  {
   "cell_type": "code",
   "execution_count": 4,
   "metadata": {},
   "outputs": [],
   "source": [
    "def build_gridworld(size, slip_rate=.1, walls=[], debug=False):\n",
    "    states = [None]*size**2\n",
    "    for i in range(size):\n",
    "        for j in range(size):\n",
    "            id_ = size*i+j\n",
    "            up    = i-1\n",
    "            down  = i+1\n",
    "            left  = j-1\n",
    "            right = j+1\n",
    "            if (i, j) in walls:\n",
    "                states[id_] = State(id_, [Action([size*i+j]*4, [1/4]*4)]*4)\n",
    "            else:\n",
    "                if i == 0 or (i-1, j) in walls:\n",
    "                    up = i\n",
    "                if i == (size-1) or (i+1, j) in walls:\n",
    "                    down = i\n",
    "                if j == 0 or (i, j-1) in walls:\n",
    "                    left = j\n",
    "                if j == (size-1) or (i, j+1) in walls:\n",
    "                    right = j\n",
    "                actions = [None]*4\n",
    "                dests = [up*size+j, down*size+j, i*size+left, i*size+right]\n",
    "                probs = [1-slip_rate, slip_rate/3]\n",
    "                actions[0] = Action(dests, [probs[0], probs[1], probs[1], probs[1]])\n",
    "                actions[1] = Action(dests, [probs[1], probs[0], probs[1], probs[1]])\n",
    "                actions[2] = Action(dests, [probs[1], probs[1], probs[0], probs[1]])\n",
    "                actions[3] = Action(dests, [probs[1], probs[1], probs[1], probs[0]])\n",
    "                states[id_] = State(id_, actions)\n",
    "            \n",
    "                if debug:\n",
    "                    print(i, j, [(dest//size, dest%size) for dest in actions[0].destinations])\n",
    "                \n",
    "    return GridWorld(states)\n",
    "\n",
    "\n",
    "def build_four_rooms(size, slip_rate=.1, walls=[], debug=False):\n",
    "    pos = size//2\n",
    "    n_walls = [(pos, i) for i in range(size)] + [(i, pos) for i in range(size)]\n",
    "    n_walls = n_walls[:-pos*3//2] + n_walls[-pos*3//2+1:]\n",
    "    n_walls = n_walls[:-pos//2] + n_walls[-pos//2+1:]\n",
    "    n_walls = n_walls[:pos*3//2] + n_walls[pos*3//2+1:]\n",
    "    n_walls = n_walls[:pos//2] + n_walls[pos//2+1:]\n",
    "    walls += n_walls\n",
    "    \n",
    "    if debug:\n",
    "        print(walls)\n",
    "        \n",
    "    return build_gridworld(size, slip_rate, walls, debug)\n",
    "\n",
    "\n",
    "def build_taxi(size, slip_rate=.1, walls=[], debug=False):\n",
    "    indices = np.arange(size**4*2).reshape(size, size, size, size, 2)\n",
    "    states = [None] * indices.size\n",
    "    for ar in range(size):\n",
    "        for ac in range(size):\n",
    "            for pr in range(size):\n",
    "                for pc in range(size):\n",
    "                    for h in range(2):\n",
    "                        id_ = indices[ar, ac, pr, pc, h]\n",
    "                        invalid = (not (pr==ar and pc==ac)) and h\n",
    "                        if (ar, ac) in walls or (pr, pc) in walls or invalid:\n",
    "                            states[id_] = State(id_, [Action([id_]*6, [1/6]*6)]*6)\n",
    "                        else:\n",
    "                            pick  = 1 if all([pr==ar, pc==ac]) else 0\n",
    "                            place = 0\n",
    "                            up    = -1\n",
    "                            down  = 1\n",
    "                            left  = -1\n",
    "                            right = 1\n",
    "                            if ar == 0 or (ar+up, ac) in walls:\n",
    "                                up = 0\n",
    "                            if ar == (size-1) or (ar+down, ac) in walls:\n",
    "                                down = 0\n",
    "                            if ac == 0 or (ar, ac+left) in walls:\n",
    "                                left = 0\n",
    "                            if ac == (size-1) or (ar, ac+right) in walls:\n",
    "                                right = 0\n",
    "                            \n",
    "                            aup    = ar+up\n",
    "                            adown  = ar+down\n",
    "                            aleft  = ac+left\n",
    "                            aright = ac+right\n",
    "                            if h:\n",
    "                                pup    = pr+up\n",
    "                                pdown  = pr+down\n",
    "                                pleft  = pc+left\n",
    "                                pright = pc+right\n",
    "                            else:\n",
    "                                pup    = pr\n",
    "                                pdown  = pr\n",
    "                                pleft  = pc\n",
    "                                pright = pc\n",
    "                            actions = [None]*6\n",
    "                            dests = [indices[aup,   ac,     pup,   pc,     h], \n",
    "                                     indices[adown, ac,     pdown, pc,     h], \n",
    "                                     indices[ar,    aleft,  pr,    pleft,  h], \n",
    "                                     indices[ar,    aright, pr,    pright, h], \n",
    "                                     indices[ar,    ac,     pr,    pc,     pick], \n",
    "                                     indices[ar,    ac,     pr,    pc,     place]]\n",
    "                            probs = [1-slip_rate, slip_rate/5]\n",
    "                            actions = [Action(dests, [probs[1]]*i + [probs[0]] + [probs[1]]*(5-i)) for i in range(6)]\n",
    "                            states[id_] = State(id_, actions)\n",
    "                            \n",
    "    return Taxi(states, indices)"
   ]
  },
  {
   "cell_type": "code",
   "execution_count": 5,
   "metadata": {},
   "outputs": [],
   "source": [
    "a = build_gridworld(25, walls=[(i,i) for i in range(15)])"
   ]
  },
  {
   "cell_type": "code",
   "execution_count": 6,
   "metadata": {},
   "outputs": [
    {
     "name": "stdout",
     "output_type": "stream",
     "text": [
      "Values:\n"
     ]
    },
    {
     "data": {
      "image/png": "[encoded data removed]",
      "text/plain": [
       "<Figure size 432x288 with 1 Axes>"
      ]
     },
     "metadata": {
      "needs_background": "light"
     },
     "output_type": "display_data"
    },
    {
     "name": "stdout",
     "output_type": "stream",
     "text": [
      "Policy:\n"
     ]
    },
    {
     "data": {
      "image/png": "[encoded data removed]",
      "text/plain": [
       "<Figure size 432x288 with 1 Axes>"
      ]
     },
     "metadata": {
      "needs_background": "light"
     },
     "output_type": "display_data"
    },
    {
     "name": "stdout",
     "output_type": "stream",
     "text": [
      "key: wall, up, down, left, right\n"
     ]
    },
    {
     "data": {
      "image/png": "[encoded data removed]",
      "text/plain": [
       "<Figure size 432x288 with 1 Axes>"
      ]
     },
     "metadata": {
      "needs_background": "light"
     },
     "output_type": "display_data"
    }
   ],
   "source": [
    "a.show(21*19, debug=False)"
   ]
  },
  {
   "cell_type": "code",
   "execution_count": 7,
   "metadata": {},
   "outputs": [],
   "source": [
    "b = build_four_rooms(25, walls=[(i,i) for i in range(22)])"
   ]
  },
  {
   "cell_type": "code",
   "execution_count": 8,
   "metadata": {},
   "outputs": [
    {
     "name": "stdout",
     "output_type": "stream",
     "text": [
      "Values:\n"
     ]
    },
    {
     "data": {
      "image/png": "[encoded data removed]",
      "text/plain": [
       "<Figure size 432x288 with 1 Axes>"
      ]
     },
     "metadata": {
      "needs_background": "light"
     },
     "output_type": "display_data"
    },
    {
     "name": "stdout",
     "output_type": "stream",
     "text": [
      "Policy:\n"
     ]
    },
    {
     "data": {
      "image/png": "[encoded data removed]",
      "text/plain": [
       "<Figure size 432x288 with 1 Axes>"
      ]
     },
     "metadata": {
      "needs_background": "light"
     },
     "output_type": "display_data"
    },
    {
     "name": "stdout",
     "output_type": "stream",
     "text": [
      "key: wall, up, down, left, right\n"
     ]
    },
    {
     "data": {
      "image/png": "[encoded data removed]",
      "text/plain": [
       "<Figure size 432x288 with 1 Axes>"
      ]
     },
     "metadata": {
      "needs_background": "light"
     },
     "output_type": "display_data"
    }
   ],
   "source": [
    "b.show((10, 14), debug=False)"
   ]
  },
  {
   "cell_type": "code",
   "execution_count": 9,
   "metadata": {},
   "outputs": [],
   "source": [
    "c = build_taxi(10, slip_rate=.1, walls=[(2, i) for i in range(7)]+[(i+3, 6) for i in range(4)], debug=False)"
   ]
  },
  {
   "cell_type": "code",
   "execution_count": 10,
   "metadata": {
    "scrolled": false
   },
   "outputs": [
    {
     "name": "stdout",
     "output_type": "stream",
     "text": [
      "0\n",
      "Values:\n",
      "Getting Passenger:\n"
     ]
    },
    {
     "data": {
      "image/png": "[encoded data removed]",
      "text/plain": [
       "<Figure size 432x288 with 1 Axes>"
      ]
     },
     "metadata": {
      "needs_background": "light"
     },
     "output_type": "display_data"
    },
    {
     "name": "stdout",
     "output_type": "stream",
     "text": [
      "Transporting Passenger:\n"
     ]
    },
    {
     "data": {
      "image/png": "[encoded data removed]",
      "text/plain": [
       "<Figure size 432x288 with 1 Axes>"
      ]
     },
     "metadata": {
      "needs_background": "light"
     },
     "output_type": "display_data"
    },
    {
     "name": "stdout",
     "output_type": "stream",
     "text": [
      "Policy:\n",
      "Getting Passenger:\n"
     ]
    },
    {
     "data": {
      "image/png": "[encoded data removed]",
      "text/plain": [
       "<Figure size 432x288 with 1 Axes>"
      ]
     },
     "metadata": {
      "needs_background": "light"
     },
     "output_type": "display_data"
    },
    {
     "name": "stdout",
     "output_type": "stream",
     "text": [
      "Transporting Passenger:\n"
     ]
    },
    {
     "data": {
      "image/png": "[encoded data removed]",
      "text/plain": [
       "<Figure size 432x288 with 1 Axes>"
      ]
     },
     "metadata": {
      "needs_background": "light"
     },
     "output_type": "display_data"
    },
    {
     "name": "stdout",
     "output_type": "stream",
     "text": [
      "key: wall, up, down, left, right, pick, place\n"
     ]
    },
    {
     "data": {
      "image/png": "[encoded data removed]",
      "text/plain": [
       "<Figure size 432x288 with 1 Axes>"
      ]
     },
     "metadata": {
      "needs_background": "light"
     },
     "output_type": "display_data"
    }
   ],
   "source": [
    "c.show(passenger=(4,4), goal=(0,0), debug=False)"
   ]
  },
  {
   "cell_type": "code",
   "execution_count": null,
   "metadata": {},
   "outputs": [],
   "source": [
    "\n",
    "\n",
    "\n",
    "\n",
    "\n",
    "\n",
    "\n",
    "\n",
    "\n",
    "\n",
    "\n",
    "\n",
    "\n",
    "\n",
    "\n",
    "\n",
    "\n",
    "\n",
    "\n",
    "\n",
    "\n",
    "\n",
    "\n",
    "\n",
    "\n",
    "\n",
    "\n",
    "\n",
    "\n",
    "\n",
    "\n",
    "\n",
    "\n",
    "\n"
   ]
  }
 ],
 "metadata": {
  "kernelspec": {
   "display_name": "Python 3",
   "language": "python",
   "name": "python3"
  },
  "language_info": {
   "codemirror_mode": {
    "name": "ipython",
    "version": 3
   },
   "file_extension": ".py",
   "mimetype": "text/x-python",
   "name": "python",
   "nbconvert_exporter": "python",
   "pygments_lexer": "ipython3",
   "version": "3.7.4"
  }
 },
 "nbformat": 4,
 "nbformat_minor": 2
}
